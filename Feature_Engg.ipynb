{
  "nbformat": 4,
  "nbformat_minor": 0,
  "metadata": {
    "colab": {
      "name": "Feature_Engg.ipynb",
      "provenance": [],
      "mount_file_id": "11eTwa51JrcXTCraffg3i070nP11WG6HT",
      "authorship_tag": "ABX9TyOlLEIMLAu33TSZZuslWMFo",
      "include_colab_link": true
    },
    "kernelspec": {
      "name": "python3",
      "display_name": "Python 3"
    },
    "language_info": {
      "name": "python"
    }
  },
  "cells": [
    {
      "cell_type": "markdown",
      "metadata": {
        "id": "view-in-github",
        "colab_type": "text"
      },
      "source": [
        "<a href=\"https://colab.research.google.com/github/karma-os/Kaggle_study/blob/main/Feature_Engg.ipynb\" target=\"_parent\"><img src=\"https://colab.research.google.com/assets/colab-badge.svg\" alt=\"Open In Colab\"/></a>"
      ]
    },
    {
      "cell_type": "markdown",
      "metadata": {
        "id": "riqu9D_HahTC"
      },
      "source": [
        "# Simple Feature Engg Notebook - Spooky author\n",
        "\n",
        ">**Points to learn**\n",
        "- _Use of Meta Features( num of words(unique, stop)_\n",
        "- _Feature importance_\n",
        "- _XGB parameters and methods_\n",
        "\n",
        "\n",
        ">**Some issues**\n",
        "- This notebook needs `preprocessing`(especially, fill nan)\n",
        "- o.w. it will produce some errors ;-(\n",
        "- `pd.iterrows` 등의 loop 문.\n",
        "- 전반적으로 SVD 많이 쓰더라.\n",
        "\n"
      ]
    },
    {
      "cell_type": "code",
      "metadata": {
        "id": "4kvaTAzuaBH1"
      },
      "source": [
        "import os\n",
        "need= \"drive/MyDrive/Kaggle_kernel/data/spooky\"\n",
        "\n",
        "if os.getcwd() == \"/content\":\n",
        "    chdir = os.path.join(os.getcwd(),need)\n",
        "    os.chdir(need)"
      ],
      "execution_count": 1,
      "outputs": []
    },
    {
      "cell_type": "code",
      "metadata": {
        "colab": {
          "base_uri": "https://localhost:8080/"
        },
        "id": "funNTFn0aSOK",
        "outputId": "2a19b980-fceb-4a24-c526-e95aa5966076"
      },
      "source": [
        "#Linux switch command : \n",
        "\"\"\"\n",
        "-f  freshen existing files, create none\n",
        "-n  never overwrite existing files         \n",
        "-q  quiet mode (-qq => quieter)\n",
        "-o  overwrite files WITHOUT prompting \n",
        "\"\"\"\n",
        "\n",
        "!unzip -n train.zip \n",
        "!unzip -n test.zip\n",
        "!unzip -n sample_submission.zip"
      ],
      "execution_count": 2,
      "outputs": [
        {
          "output_type": "stream",
          "name": "stdout",
          "text": [
            "Archive:  train.zip\n",
            "Archive:  test.zip\n",
            "Archive:  sample_submission.zip\n"
          ]
        }
      ]
    },
    {
      "cell_type": "code",
      "metadata": {
        "id": "B-RcAleZaUOu"
      },
      "source": [
        "import numpy as np\n",
        "import pandas as pd\n",
        "import seaborn as sns\n",
        "import matplotlib.pyplot as plt\n",
        "from tqdm import tqdm\n",
        "import nltk\n",
        "from nltk.corpus import stopwords\n",
        "import xgboost as xgb\n",
        "import string\n",
        "\n",
        "\n",
        "from sklearn.feature_extraction.text import TfidfVectorizer, CountVectorizer\n",
        "from sklearn.model_selection import train_test_split\n",
        "from sklearn.decomposition import TruncatedSVD\n",
        "from sklearn import ensemble, metrics, model_selection, naive_bayes\n",
        "\n",
        "color = sns.color_palette()\n",
        "\n",
        "%matplotlib inline\n",
        "\n",
        "\n",
        "\n"
      ],
      "execution_count": 3,
      "outputs": []
    },
    {
      "cell_type": "code",
      "metadata": {
        "colab": {
          "base_uri": "https://localhost:8080/"
        },
        "id": "Qr88jfu6aUtM",
        "outputId": "158e2a67-4630-4767-afba-f5de39a27a1e"
      },
      "source": [
        "#For NLTK\n",
        "nltk.download(\"punkt\")\n",
        "nltk.download('stopwords')"
      ],
      "execution_count": 4,
      "outputs": [
        {
          "output_type": "stream",
          "name": "stdout",
          "text": [
            "[nltk_data] Downloading package punkt to /root/nltk_data...\n",
            "[nltk_data]   Unzipping tokenizers/punkt.zip.\n",
            "[nltk_data] Downloading package stopwords to /root/nltk_data...\n",
            "[nltk_data]   Unzipping corpora/stopwords.zip.\n"
          ]
        },
        {
          "output_type": "execute_result",
          "data": {
            "text/plain": [
              "True"
            ]
          },
          "metadata": {},
          "execution_count": 4
        }
      ]
    },
    {
      "cell_type": "code",
      "metadata": {
        "colab": {
          "base_uri": "https://localhost:8080/"
        },
        "id": "hLeNkgz0bRKY",
        "outputId": "05f6f159-89aa-4fb1-d458-89946930929a"
      },
      "source": [
        "train_df = pd.read_csv(\"train.csv\")\n",
        "test_df = pd.read_csv(\"test.csv\")\n",
        "\n",
        "print(\"train_df shape:\",train_df.shape)\n",
        "print(\"test_df shape:\", test_df.shape)\n"
      ],
      "execution_count": 5,
      "outputs": [
        {
          "output_type": "stream",
          "name": "stdout",
          "text": [
            "train_df shape: (19579, 3)\n",
            "test_df shape: (8392, 2)\n"
          ]
        }
      ]
    },
    {
      "cell_type": "code",
      "metadata": {
        "colab": {
          "base_uri": "https://localhost:8080/",
          "height": 142
        },
        "id": "ZP2xw0eof93A",
        "outputId": "c07169b2-eb73-4aae-b03a-dac31b74c796"
      },
      "source": [
        "train_df.head(3)"
      ],
      "execution_count": 6,
      "outputs": [
        {
          "output_type": "execute_result",
          "data": {
            "text/html": [
              "<div>\n",
              "<style scoped>\n",
              "    .dataframe tbody tr th:only-of-type {\n",
              "        vertical-align: middle;\n",
              "    }\n",
              "\n",
              "    .dataframe tbody tr th {\n",
              "        vertical-align: top;\n",
              "    }\n",
              "\n",
              "    .dataframe thead th {\n",
              "        text-align: right;\n",
              "    }\n",
              "</style>\n",
              "<table border=\"1\" class=\"dataframe\">\n",
              "  <thead>\n",
              "    <tr style=\"text-align: right;\">\n",
              "      <th></th>\n",
              "      <th>id</th>\n",
              "      <th>text</th>\n",
              "      <th>author</th>\n",
              "    </tr>\n",
              "  </thead>\n",
              "  <tbody>\n",
              "    <tr>\n",
              "      <th>0</th>\n",
              "      <td>id26305</td>\n",
              "      <td>This process, however, afforded me no means of...</td>\n",
              "      <td>EAP</td>\n",
              "    </tr>\n",
              "    <tr>\n",
              "      <th>1</th>\n",
              "      <td>id17569</td>\n",
              "      <td>It never once occurred to me that the fumbling...</td>\n",
              "      <td>HPL</td>\n",
              "    </tr>\n",
              "    <tr>\n",
              "      <th>2</th>\n",
              "      <td>id11008</td>\n",
              "      <td>In his left hand was a gold snuff box, from wh...</td>\n",
              "      <td>EAP</td>\n",
              "    </tr>\n",
              "  </tbody>\n",
              "</table>\n",
              "</div>"
            ],
            "text/plain": [
              "        id                                               text author\n",
              "0  id26305  This process, however, afforded me no means of...    EAP\n",
              "1  id17569  It never once occurred to me that the fumbling...    HPL\n",
              "2  id11008  In his left hand was a gold snuff box, from wh...    EAP"
            ]
          },
          "metadata": {},
          "execution_count": 6
        }
      ]
    },
    {
      "cell_type": "code",
      "metadata": {
        "colab": {
          "base_uri": "https://localhost:8080/",
          "height": 444
        },
        "id": "B6BAlo_rbRfp",
        "outputId": "7016eef0-efc0-4ca9-f80b-d2450f6c2404"
      },
      "source": [
        "cnt_srs = train_df[\"author\"].value_counts()\n",
        "\n",
        "plt.figure(figsize = (8,6))\n",
        "sns.barplot(cnt_srs.index, cnt_srs.values, alpha = 0.8)\n",
        "plt.xlabel(\"Author\")\n",
        "plt.ylabel(\"Number of each author\")\n",
        "\n",
        "import warnings\n",
        "warnings.filterwarnings(\"ignore\")"
      ],
      "execution_count": 7,
      "outputs": [
        {
          "output_type": "stream",
          "name": "stderr",
          "text": [
            "/usr/local/lib/python3.7/dist-packages/seaborn/_decorators.py:43: FutureWarning: Pass the following variables as keyword args: x, y. From version 0.12, the only valid positional argument will be `data`, and passing other arguments without an explicit keyword will result in an error or misinterpretation.\n",
            "  FutureWarning\n"
          ]
        },
        {
          "output_type": "display_data",
          "data": {
            "image/png": "[encoded data removed]",
            "text/plain": [
              "<Figure size 576x432 with 1 Axes>"
            ]
          },
          "metadata": {
            "needs_background": "light"
          }
        }
      ]
    },
    {
      "cell_type": "markdown",
      "metadata": {
        "id": "mow-6F2wiKGU"
      },
      "source": [
        "# Pandas 반복문 : array.iterrows\n",
        "\n",
        "- dataframe row를 (index, row)로 반복함.\n",
        "- 반복하는 것을 편집하는 건 무의미함.\n",
        "\n",
        "## Similar metohd\n",
        "**pd.itertuples**\n",
        "- dataframe을 namedtuple로 반복.\n",
        "\n",
        "**pd.iteritems**\n",
        "- dataframe을 (column, series)로 반복함."
      ]
    },
    {
      "cell_type": "code",
      "metadata": {
        "colab": {
          "base_uri": "https://localhost:8080/"
        },
        "id": "6lcR8K4kbRic",
        "outputId": "84d8699b-96eb-4edc-b103-9ee5b147e730"
      },
      "source": [
        "grouped_df = train_df.groupby(by = \"author\")\n",
        "for name, group in grouped_df:\n",
        "    print(\"Author name:\", name)\n",
        "    cnt = 0\n",
        "    for ind, row in group.iterrows():\n",
        "        print(row[\"text\"])\n",
        "        cnt+=1\n",
        "        print(\"\\n\")\n",
        "        if cnt==5: break\n",
        "    print()"
      ],
      "execution_count": 8,
      "outputs": [
        {
          "output_type": "stream",
          "name": "stdout",
          "text": [
            "Author name: EAP\n",
            "This process, however, afforded me no means of ascertaining the dimensions of my dungeon; as I might make its circuit, and return to the point whence I set out, without being aware of the fact; so perfectly uniform seemed the wall.\n",
            "\n",
            "\n",
            "In his left hand was a gold snuff box, from which, as he capered down the hill, cutting all manner of fantastic steps, he took snuff incessantly with an air of the greatest possible self satisfaction.\n",
            "\n",
            "\n",
            "The astronomer, perhaps, at this point, took refuge in the suggestion of non luminosity; and here analogy was suddenly let fall.\n",
            "\n",
            "\n",
            "The surcingle hung in ribands from my body.\n",
            "\n",
            "\n",
            "I knew that you could not say to yourself 'stereotomy' without being brought to think of atomies, and thus of the theories of Epicurus; and since, when we discussed this subject not very long ago, I mentioned to you how singularly, yet with how little notice, the vague guesses of that noble Greek had met with confirmation in the late nebular cosmogony, I felt that you could not avoid casting your eyes upward to the great nebula in Orion, and I certainly expected that you would do so.\n",
            "\n",
            "\n",
            "\n",
            "Author name: HPL\n",
            "It never once occurred to me that the fumbling might be a mere mistake.\n",
            "\n",
            "\n",
            "Finding nothing else, not even gold, the Superintendent abandoned his attempts; but a perplexed look occasionally steals over his countenance as he sits thinking at his desk.\n",
            "\n",
            "\n",
            "Herbert West needed fresh bodies because his life work was the reanimation of the dead.\n",
            "\n",
            "\n",
            "The farm like grounds extended back very deeply up the hill, almost to Wheaton Street.\n",
            "\n",
            "\n",
            "His facial aspect, too, was remarkable for its maturity; for though he shared his mother's and grandfather's chinlessness, his firm and precociously shaped nose united with the expression of his large, dark, almost Latin eyes to give him an air of quasi adulthood and well nigh preternatural intelligence.\n",
            "\n",
            "\n",
            "\n",
            "Author name: MWS\n",
            "How lovely is spring As we looked from Windsor Terrace on the sixteen fertile counties spread beneath, speckled by happy cottages and wealthier towns, all looked as in former years, heart cheering and fair.\n",
            "\n",
            "\n",
            "A youth passed in solitude, my best years spent under your gentle and feminine fosterage, has so refined the groundwork of my character that I cannot overcome an intense distaste to the usual brutality exercised on board ship: I have never believed it to be necessary, and when I heard of a mariner equally noted for his kindliness of heart and the respect and obedience paid to him by his crew, I felt myself peculiarly fortunate in being able to secure his services.\n",
            "\n",
            "\n",
            "I confess that neither the structure of languages, nor the code of governments, nor the politics of various states possessed attractions for me.\n",
            "\n",
            "\n",
            "He shall find that I can feel my injuries; he shall learn to dread my revenge\" A few days after he arrived.\n",
            "\n",
            "\n",
            "He had escaped me, and I must commence a destructive and almost endless journey across the mountainous ices of the ocean, amidst cold that few of the inhabitants could long endure and which I, the native of a genial and sunny climate, could not hope to survive.\n",
            "\n",
            "\n",
            "\n"
          ]
        }
      ]
    },
    {
      "cell_type": "markdown",
      "metadata": {
        "id": "FhNMDaqibRlK"
      },
      "source": [
        "## Feature Engineering\n",
        "\n",
        "### Type 1 : Meta Features\n",
        "- features extracted from text like num of words, num of stopwords.\n",
        "\n",
        "### Type 2: Text-based features\n",
        "- features directly based on the text/words(e.g. freq, svd, word2vec)"
      ]
    },
    {
      "cell_type": "markdown",
      "metadata": {
        "id": "VAXZEAQTbRoN"
      },
      "source": [
        "##<font color =\"blue\">**Meta Features**</font>"
      ]
    },
    {
      "cell_type": "code",
      "metadata": {
        "id": "1xgra7ow0LAA"
      },
      "source": [
        "from nltk.corpus import stopwords"
      ],
      "execution_count": 9,
      "outputs": []
    },
    {
      "cell_type": "code",
      "metadata": {
        "colab": {
          "base_uri": "https://localhost:8080/",
          "height": 35
        },
        "id": "1B3xoEp1xYtE",
        "outputId": "d737ec45-a3c8-4b16-dbc7-dd9ae40cca61"
      },
      "source": [
        "eng_stopwords = set(stopwords.words('english'))\n",
        "pd.options.mode.chained_assignment = None\n",
        "\n",
        "\n",
        "\"\"\"\n",
        "String 라이브러리에서 일반적으로 string.punctuation 등의 기능 지원.\n",
        "\"\"\"\n"
      ],
      "execution_count": 10,
      "outputs": [
        {
          "output_type": "execute_result",
          "data": {
            "application/vnd.google.colaboratory.intrinsic+json": {
              "type": "string"
            },
            "text/plain": [
              "'\\nString 라이브러리에서 일반적으로 string.punctuation 등의 기능 지원.\\n'"
            ]
          },
          "metadata": {},
          "execution_count": 10
        }
      ]
    },
    {
      "cell_type": "code",
      "metadata": {
        "id": "vKfy0-wRbRrT"
      },
      "source": [
        "## Num of words in the text ##\n",
        "train_df[\"num_words\"] = train_df[\"text\"].apply(lambda x: len(str(x).split()))\n",
        "test_df[\"num_words\"] = test_df[\"text\"].apply(lambda x: len(str(x).split()))\n",
        "\n",
        "## Num of words in the text ##\n",
        "train_df[\"num_unique_words\"] = train_df[\"text\"].apply(lambda x:len(set(str(x).split())))\n",
        "test_df[\"num_unique_words\"] = test_df[\"text\"].apply(lambda x:len(set(str(x).split())))\n",
        "\n",
        "## Num of characters in the text : 아마 공백도 포함인듯 ## \n",
        "train_df[\"num_chars\"] = train_df[\"text\"].apply(lambda x:len(str(x)))\n",
        "test_df[\"num_chars\"] = test_df[\"text\"].apply(lambda x:len(str(x)))\n",
        "\n",
        "## Num of stopwords in the text ##\n",
        "train_df[\"num_stopwords\"] = train_df[\"text\"].apply(lambda x: len([w for w in str(x).split() if w in eng_stopwords]))\n",
        "test_df[\"num_stopwords\"] = test_df[\"text\"].apply(lambda x: len([w for w in str(x).split() if w in eng_stopwords]))\n",
        "\n",
        "## Num of punctations in the text ##\n",
        "train_df[\"num_punctuations\"] = train_df[\"text\"].apply(lambda x: len([w for w in str(x) if w in string.punctuation]))\n",
        "test_df[\"num_punctuations\"] = test_df[\"text\"].apply(lambda x: len([w for w in str(x) if w in string.punctuation]))\n",
        "\n",
        "## Num of upper case words in the text ##\n",
        "train_df[\"num_words_upper\"] = train_df[\"text\"].apply(lambda x:len([w for w in str(x).split() if w.isupper()]))\n",
        "test_df[\"num_words_upper\"] = test_df[\"text\"].apply(lambda x:len([w for w in str(x).split() if w.isupper()]))\n",
        "\n",
        "## Num of title case in the text##\n",
        "\"\"\"\n",
        "TItle case란, Hello, World! 처럼 각 단어가 대문자로 시작하고 그 외엔 다 소문자여야해!\n",
        "\"\"\"\n",
        "train_df[\"num_words_title\"] = train_df[\"text\"].apply(lambda x: len([w for w in str(x).split() if w.istitle()]))\n",
        "test_df[\"num_words_title\"] = test_df[\"text\"].apply(lambda x: len([w for w in str(x).split() if w.istitle()]))\n",
        "\n",
        "## Avg length of the words in the text ##\n",
        "\n",
        "train_df[\"mean_word_len\"] = train_df[\"text\"].apply(lambda x: np.mean([len(w) for w in str(x).split()]))\n",
        "test_df[\"mean_word_len\"] = test_df[\"text\"].apply(lambda x: np.mean([len(w) for w in str(x).split()]))\n",
        "\n",
        "\n"
      ],
      "execution_count": 11,
      "outputs": []
    },
    {
      "cell_type": "code",
      "metadata": {
        "colab": {
          "base_uri": "https://localhost:8080/",
          "height": 563
        },
        "id": "9KijP2UJbRuc",
        "outputId": "64a3af7e-4dae-47a2-ff83-f536ffb01abc"
      },
      "source": [
        "#Trunctation for better visuals\n",
        "train_df[\"num_words\"].loc[train_df[\"num_words\"]>80] = 80\n",
        "\n",
        "plt.figure(figsize = (12,8))\n",
        "sns.violinplot(x = 'author', y = \"num_words\", data = train_df)\n",
        "plt.xlabel(\"author\\n\\n\\n EAP seems to have less words than others\", fontsize = 12)\n",
        "plt.ylabel(\"number of words in text\", fontsize = 12)\n",
        "plt.title(\"Num of words by author\", fontsize = 15)\n",
        "plt.show()\n",
        "\n"
      ],
      "execution_count": 12,
      "outputs": [
        {
          "output_type": "display_data",
          "data": {
            "image/png": "[encoded data removed]",
            "text/plain": [
              "<Figure size 864x576 with 1 Axes>"
            ]
          },
          "metadata": {
            "needs_background": "light"
          }
        }
      ]
    },
    {
      "cell_type": "code",
      "metadata": {
        "colab": {
          "base_uri": "https://localhost:8080/",
          "height": 515
        },
        "id": "A49-mgQIbRxU",
        "outputId": "543357c1-3cdd-4b49-abb7-96c9421348cf"
      },
      "source": [
        "train_df[\"num_punctuations\"].loc[train_df[\"num_punctuations\"]>10] = 10\n",
        "plt.figure(figsize = (12,8))\n",
        "sns.violinplot(x = \"author\", y = \"num_punctuations\", data = train_df)\n",
        "plt.xlabel(\"author\")\n",
        "plt.title(\"Author, and number of punctuations\", fontsize = 15)\n",
        "plt.show()"
      ],
      "execution_count": 13,
      "outputs": [
        {
          "output_type": "display_data",
          "data": {
            "image/png": "[encoded data removed]",
            "text/plain": [
              "<Figure size 864x576 with 1 Axes>"
            ]
          },
          "metadata": {
            "needs_background": "light"
          }
        }
      ]
    },
    {
      "cell_type": "code",
      "metadata": {
        "id": "NcmWoh0JCYGh"
      },
      "source": [
        "from sklearn.preprocessing import LabelEncoder"
      ],
      "execution_count": 14,
      "outputs": []
    },
    {
      "cell_type": "code",
      "metadata": {
        "id": "DyVggFaVbR0c"
      },
      "source": [
        "##Prepare the data for modeling\n",
        "author_mapping_dict = {\"EAP\":0,\"HPL\":1,\"MWS\":2}\n",
        "train_y = train_df[\"author\"].map(author_mapping_dict)\n",
        "\n",
        "train_id = train_df[\"id\"].values\n",
        "test_id  = test_df[\"id\"].values\n",
        "\n",
        "##Recompute Truncated variables again\n",
        "\n",
        "train_df[\"num_words\"] = train_df[\"text\"].apply(lambda x: len(str(x).split()))\n",
        "test_df[\"num_words\"] = test_df[\"text\"].apply(lambda x: len(str(x).split()))\n",
        "train_df[\"mean_word_len\"] = train_df[\"text\"].apply(lambda x: np.mean([len(w) for w in str(x).split()]))\n",
        "test_df[\"mean_word_len\"] = test_df[\"text\"].apply(lambda x: np.mean([len(w) for w in str(x).split()]))\n",
        "\n",
        "cols_to_drop = [\"id\",\"text\"]\n",
        "\n",
        "train_X = train_df.drop(cols_to_drop+[\"author\"], axis = 1)\n",
        "test_X  = test_df.drop(cols_to_drop, axis = 1) \n",
        "\n"
      ],
      "execution_count": 15,
      "outputs": []
    },
    {
      "cell_type": "markdown",
      "metadata": {
        "id": "Za2qq6gQD2sK"
      },
      "source": [
        "## XGBOOST\n",
        "\n",
        "- eta: GBM의 lr\n",
        "- num_boost_around = weak learner의 수\n",
        "- colsample_bytree = 트리 생성에 필요한 피쳐의 샘플링\n",
        "\n",
        "\n",
        "**DMatrix** : numpy 인자를 받아서 만들어지는 XGB 만의 전용 데이터셋\n",
        "\n"
      ]
    },
    {
      "cell_type": "code",
      "metadata": {
        "id": "ZfQ0bmrfbR3a"
      },
      "source": [
        "def runXGB(train_X, train_y, test_X, test_y=None, test_X2=None, seed_val=0, child=1, colsample=0.3):\n",
        "    param = {}\n",
        "    param['objective'] = 'multi:softprob'\n",
        "    param['eta'] = 0.1\n",
        "    param['max_depth'] = 3\n",
        "    param['silent'] = 1\n",
        "    param['num_class'] = 3\n",
        "    param['eval_metric'] = \"mlogloss\"\n",
        "    param['min_child_weight'] = child\n",
        "    param['subsample'] = 0.8\n",
        "    param['colsample_bytree'] = colsample\n",
        "    param['seed'] = seed_val\n",
        "    num_rounds = 2000\n",
        "\n",
        "    plst = list(param.items())\n",
        "    xgtrain = xgb.DMatrix(train_X, label=train_y)\n",
        "\n",
        "    ## To handle column mismatch\n",
        "    test_X = test_X[train_X.columns]\n",
        "\n",
        "    if test_y is not None:\n",
        "        xgtest = xgb.DMatrix(test_X, label=test_y)\n",
        "        watchlist = [ (xgtrain,'train'), (xgtest, 'test') ]\n",
        "        model = xgb.train(plst, xgtrain, num_rounds, watchlist, early_stopping_rounds=50, verbose_eval=20)\n",
        "    else:\n",
        "        xgtest = xgb.DMatrix(test_X)\n",
        "        model = xgb.train(plst, xgtrain, num_rounds)\n",
        "\n",
        "    pred_test_y = model.predict(xgtest, ntree_limit = model.best_ntree_limit)\n",
        "    if test_X2 is not None:\n",
        "        test_X2 = test_X2[train_X.columns]\n",
        "        xgtest2 = xgb.DMatrix(test_X2)\n",
        "        pred_test_y2 = model.predict(xgtest2, ntree_limit = model.best_ntree_limit)\n",
        "    return pred_test_y, pred_test_y2, model"
      ],
      "execution_count": 16,
      "outputs": []
    },
    {
      "cell_type": "markdown",
      "metadata": {
        "id": "PzDvaSNcFjCI"
      },
      "source": [
        "위 코드는 XGB로 dev, val, test를 쪼개기 위한 것임은 알겠음.\n",
        "\n",
        "아래 코드 이해해보자!\n",
        "\n",
        "- pred_full-test 는 왜있는걸까? "
      ]
    },
    {
      "cell_type": "code",
      "metadata": {
        "colab": {
          "base_uri": "https://localhost:8080/"
        },
        "id": "WCgKgBQ1EmVr",
        "outputId": "2e6e1445-e144-4589-8e2b-ebd6e93f1634"
      },
      "source": [
        "kf = model_selection.KFold(n_splits=5, shuffle=True, random_state=2017)\n",
        "cv_scores = []\n",
        "pred_full_test = 0\n",
        "pred_train = np.zeros([train_df.shape[0], 3])\n",
        "for dev_index, val_index in kf.split(train_X):\n",
        "    dev_X, val_X = train_X.loc[dev_index], train_X.loc[val_index]\n",
        "    dev_y, val_y = train_y[dev_index], train_y[val_index]\n",
        "    pred_val_y, pred_test_y, model = runXGB(dev_X, dev_y, val_X, val_y, test_X, seed_val=0)\n",
        "    pred_full_test = pred_full_test + pred_test_y\n",
        "    pred_train[val_index,:] = pred_val_y\n",
        "    cv_scores.append(metrics.log_loss(val_y, pred_val_y))\n",
        "\n",
        "print(\"cv scores : \", cv_scores)"
      ],
      "execution_count": 17,
      "outputs": [
        {
          "output_type": "stream",
          "name": "stdout",
          "text": [
            "[0]\ttrain-mlogloss:1.09366\ttest-mlogloss:1.09442\n",
            "Multiple eval metrics have been passed: 'test-mlogloss' will be used for early stopping.\n",
            "\n",
            "Will train until test-mlogloss hasn't improved in 50 rounds.\n",
            "[20]\ttrain-mlogloss:1.04156\ttest-mlogloss:1.05178\n",
            "[40]\ttrain-mlogloss:1.0235\ttest-mlogloss:1.03957\n",
            "[60]\ttrain-mlogloss:1.0104\ttest-mlogloss:1.03011\n",
            "[80]\ttrain-mlogloss:1.00015\ttest-mlogloss:1.02283\n",
            "[100]\ttrain-mlogloss:0.992085\ttest-mlogloss:1.01733\n",
            "[120]\ttrain-mlogloss:0.984127\ttest-mlogloss:1.01211\n",
            "[140]\ttrain-mlogloss:0.97751\ttest-mlogloss:1.00827\n",
            "[160]\ttrain-mlogloss:0.97241\ttest-mlogloss:1.005\n",
            "[180]\ttrain-mlogloss:0.967188\ttest-mlogloss:1.00186\n",
            "[200]\ttrain-mlogloss:0.962802\ttest-mlogloss:1.00044\n",
            "[220]\ttrain-mlogloss:0.958951\ttest-mlogloss:0.999086\n",
            "[240]\ttrain-mlogloss:0.955047\ttest-mlogloss:0.997492\n",
            "[260]\ttrain-mlogloss:0.951796\ttest-mlogloss:0.996408\n",
            "[280]\ttrain-mlogloss:0.948619\ttest-mlogloss:0.995062\n",
            "[300]\ttrain-mlogloss:0.945647\ttest-mlogloss:0.994417\n",
            "[320]\ttrain-mlogloss:0.942782\ttest-mlogloss:0.993815\n",
            "[340]\ttrain-mlogloss:0.940297\ttest-mlogloss:0.993434\n",
            "[360]\ttrain-mlogloss:0.937634\ttest-mlogloss:0.992854\n",
            "[380]\ttrain-mlogloss:0.935054\ttest-mlogloss:0.992399\n",
            "[400]\ttrain-mlogloss:0.932912\ttest-mlogloss:0.992433\n",
            "[420]\ttrain-mlogloss:0.930569\ttest-mlogloss:0.992066\n",
            "[440]\ttrain-mlogloss:0.928616\ttest-mlogloss:0.991922\n",
            "[460]\ttrain-mlogloss:0.926473\ttest-mlogloss:0.991486\n",
            "[480]\ttrain-mlogloss:0.924661\ttest-mlogloss:0.991485\n",
            "[500]\ttrain-mlogloss:0.922474\ttest-mlogloss:0.991291\n",
            "[520]\ttrain-mlogloss:0.92048\ttest-mlogloss:0.991306\n",
            "[540]\ttrain-mlogloss:0.91862\ttest-mlogloss:0.991192\n",
            "Stopping. Best iteration:\n",
            "[506]\ttrain-mlogloss:0.921851\ttest-mlogloss:0.991059\n",
            "\n",
            "[0]\ttrain-mlogloss:1.09385\ttest-mlogloss:1.09348\n",
            "Multiple eval metrics have been passed: 'test-mlogloss' will be used for early stopping.\n",
            "\n",
            "Will train until test-mlogloss hasn't improved in 50 rounds.\n",
            "[20]\ttrain-mlogloss:1.04397\ttest-mlogloss:1.04212\n",
            "[40]\ttrain-mlogloss:1.02655\ttest-mlogloss:1.02724\n",
            "[60]\ttrain-mlogloss:1.01357\ttest-mlogloss:1.01662\n",
            "[80]\ttrain-mlogloss:1.00278\ttest-mlogloss:1.00932\n",
            "[100]\ttrain-mlogloss:0.994441\ttest-mlogloss:1.00348\n",
            "[120]\ttrain-mlogloss:0.986505\ttest-mlogloss:0.998585\n",
            "[140]\ttrain-mlogloss:0.979941\ttest-mlogloss:0.994882\n",
            "[160]\ttrain-mlogloss:0.974552\ttest-mlogloss:0.992323\n",
            "[180]\ttrain-mlogloss:0.96993\ttest-mlogloss:0.989974\n",
            "[200]\ttrain-mlogloss:0.965508\ttest-mlogloss:0.988072\n",
            "[220]\ttrain-mlogloss:0.961444\ttest-mlogloss:0.986492\n",
            "[240]\ttrain-mlogloss:0.957116\ttest-mlogloss:0.984889\n",
            "[260]\ttrain-mlogloss:0.95387\ttest-mlogloss:0.983711\n",
            "[280]\ttrain-mlogloss:0.950935\ttest-mlogloss:0.982882\n",
            "[300]\ttrain-mlogloss:0.948157\ttest-mlogloss:0.982049\n",
            "[320]\ttrain-mlogloss:0.945376\ttest-mlogloss:0.98155\n",
            "[340]\ttrain-mlogloss:0.942946\ttest-mlogloss:0.981045\n",
            "[360]\ttrain-mlogloss:0.940445\ttest-mlogloss:0.980354\n",
            "[380]\ttrain-mlogloss:0.937889\ttest-mlogloss:0.979509\n",
            "[400]\ttrain-mlogloss:0.935711\ttest-mlogloss:0.979056\n",
            "[420]\ttrain-mlogloss:0.933401\ttest-mlogloss:0.978411\n",
            "[440]\ttrain-mlogloss:0.931618\ttest-mlogloss:0.978612\n",
            "[460]\ttrain-mlogloss:0.929673\ttest-mlogloss:0.978304\n",
            "[480]\ttrain-mlogloss:0.927721\ttest-mlogloss:0.978122\n",
            "[500]\ttrain-mlogloss:0.925673\ttest-mlogloss:0.977854\n",
            "[520]\ttrain-mlogloss:0.923668\ttest-mlogloss:0.977574\n",
            "[540]\ttrain-mlogloss:0.921832\ttest-mlogloss:0.977609\n",
            "[560]\ttrain-mlogloss:0.920219\ttest-mlogloss:0.977639\n",
            "[580]\ttrain-mlogloss:0.918332\ttest-mlogloss:0.977807\n",
            "Stopping. Best iteration:\n",
            "[546]\ttrain-mlogloss:0.921336\ttest-mlogloss:0.977449\n",
            "\n",
            "[0]\ttrain-mlogloss:1.09377\ttest-mlogloss:1.09422\n",
            "Multiple eval metrics have been passed: 'test-mlogloss' will be used for early stopping.\n",
            "\n",
            "Will train until test-mlogloss hasn't improved in 50 rounds.\n",
            "[20]\ttrain-mlogloss:1.04161\ttest-mlogloss:1.04995\n",
            "[40]\ttrain-mlogloss:1.02391\ttest-mlogloss:1.03623\n",
            "[60]\ttrain-mlogloss:1.01104\ttest-mlogloss:1.02715\n",
            "[80]\ttrain-mlogloss:1.00077\ttest-mlogloss:1.02059\n",
            "[100]\ttrain-mlogloss:0.992505\ttest-mlogloss:1.01562\n",
            "[120]\ttrain-mlogloss:0.9843\ttest-mlogloss:1.01082\n",
            "[140]\ttrain-mlogloss:0.97766\ttest-mlogloss:1.00741\n",
            "[160]\ttrain-mlogloss:0.971988\ttest-mlogloss:1.00445\n",
            "[180]\ttrain-mlogloss:0.966996\ttest-mlogloss:1.0019\n",
            "[200]\ttrain-mlogloss:0.962543\ttest-mlogloss:1.00022\n",
            "[220]\ttrain-mlogloss:0.958494\ttest-mlogloss:0.998795\n",
            "[240]\ttrain-mlogloss:0.954558\ttest-mlogloss:0.997133\n",
            "[260]\ttrain-mlogloss:0.951493\ttest-mlogloss:0.996271\n",
            "[280]\ttrain-mlogloss:0.948295\ttest-mlogloss:0.995545\n",
            "[300]\ttrain-mlogloss:0.945448\ttest-mlogloss:0.994757\n",
            "[320]\ttrain-mlogloss:0.942531\ttest-mlogloss:0.994071\n",
            "[340]\ttrain-mlogloss:0.939939\ttest-mlogloss:0.993405\n",
            "[360]\ttrain-mlogloss:0.937364\ttest-mlogloss:0.993021\n",
            "[380]\ttrain-mlogloss:0.934974\ttest-mlogloss:0.992678\n",
            "[400]\ttrain-mlogloss:0.932819\ttest-mlogloss:0.992444\n",
            "[420]\ttrain-mlogloss:0.930396\ttest-mlogloss:0.991999\n",
            "[440]\ttrain-mlogloss:0.928647\ttest-mlogloss:0.991726\n",
            "[460]\ttrain-mlogloss:0.926536\ttest-mlogloss:0.99178\n",
            "[480]\ttrain-mlogloss:0.924695\ttest-mlogloss:0.991561\n",
            "[500]\ttrain-mlogloss:0.922685\ttest-mlogloss:0.991377\n",
            "[520]\ttrain-mlogloss:0.920729\ttest-mlogloss:0.99111\n",
            "[540]\ttrain-mlogloss:0.918997\ttest-mlogloss:0.990651\n",
            "[560]\ttrain-mlogloss:0.917161\ttest-mlogloss:0.990708\n",
            "[580]\ttrain-mlogloss:0.915241\ttest-mlogloss:0.990597\n",
            "[600]\ttrain-mlogloss:0.913707\ttest-mlogloss:0.990506\n",
            "[620]\ttrain-mlogloss:0.911945\ttest-mlogloss:0.990416\n",
            "[640]\ttrain-mlogloss:0.910142\ttest-mlogloss:0.990163\n",
            "[660]\ttrain-mlogloss:0.908367\ttest-mlogloss:0.99051\n",
            "[680]\ttrain-mlogloss:0.906872\ttest-mlogloss:0.990225\n",
            "Stopping. Best iteration:\n",
            "[631]\ttrain-mlogloss:0.910951\ttest-mlogloss:0.990085\n",
            "\n",
            "[0]\ttrain-mlogloss:1.09387\ttest-mlogloss:1.09403\n",
            "Multiple eval metrics have been passed: 'test-mlogloss' will be used for early stopping.\n",
            "\n",
            "Will train until test-mlogloss hasn't improved in 50 rounds.\n",
            "[20]\ttrain-mlogloss:1.0429\ttest-mlogloss:1.04659\n",
            "[40]\ttrain-mlogloss:1.02486\ttest-mlogloss:1.03282\n",
            "[60]\ttrain-mlogloss:1.01171\ttest-mlogloss:1.02313\n",
            "[80]\ttrain-mlogloss:1.00142\ttest-mlogloss:1.01614\n",
            "[100]\ttrain-mlogloss:0.993199\ttest-mlogloss:1.01056\n",
            "[120]\ttrain-mlogloss:0.984847\ttest-mlogloss:1.00543\n",
            "[140]\ttrain-mlogloss:0.978381\ttest-mlogloss:1.00191\n",
            "[160]\ttrain-mlogloss:0.973007\ttest-mlogloss:0.999177\n",
            "[180]\ttrain-mlogloss:0.968177\ttest-mlogloss:0.997051\n",
            "[200]\ttrain-mlogloss:0.963971\ttest-mlogloss:0.995803\n",
            "[220]\ttrain-mlogloss:0.959895\ttest-mlogloss:0.994317\n",
            "[240]\ttrain-mlogloss:0.955731\ttest-mlogloss:0.992182\n",
            "[260]\ttrain-mlogloss:0.952745\ttest-mlogloss:0.991366\n",
            "[280]\ttrain-mlogloss:0.949513\ttest-mlogloss:0.990401\n",
            "[300]\ttrain-mlogloss:0.946356\ttest-mlogloss:0.989529\n",
            "[320]\ttrain-mlogloss:0.943475\ttest-mlogloss:0.98861\n",
            "[340]\ttrain-mlogloss:0.941053\ttest-mlogloss:0.988097\n",
            "[360]\ttrain-mlogloss:0.938387\ttest-mlogloss:0.987711\n",
            "[380]\ttrain-mlogloss:0.935836\ttest-mlogloss:0.987639\n",
            "[400]\ttrain-mlogloss:0.933799\ttest-mlogloss:0.987764\n",
            "[420]\ttrain-mlogloss:0.931277\ttest-mlogloss:0.987569\n",
            "[440]\ttrain-mlogloss:0.92927\ttest-mlogloss:0.987552\n",
            "Stopping. Best iteration:\n",
            "[405]\ttrain-mlogloss:0.933161\ttest-mlogloss:0.987377\n",
            "\n",
            "[0]\ttrain-mlogloss:1.09462\ttest-mlogloss:1.0947\n",
            "Multiple eval metrics have been passed: 'test-mlogloss' will be used for early stopping.\n",
            "\n",
            "Will train until test-mlogloss hasn't improved in 50 rounds.\n",
            "[20]\ttrain-mlogloss:1.04738\ttest-mlogloss:1.05025\n",
            "[40]\ttrain-mlogloss:1.02515\ttest-mlogloss:1.03146\n",
            "[60]\ttrain-mlogloss:1.00948\ttest-mlogloss:1.01754\n",
            "[80]\ttrain-mlogloss:1.00002\ttest-mlogloss:1.01009\n",
            "[100]\ttrain-mlogloss:0.99073\ttest-mlogloss:1.00318\n",
            "[120]\ttrain-mlogloss:0.984035\ttest-mlogloss:0.99911\n",
            "[140]\ttrain-mlogloss:0.978182\ttest-mlogloss:0.995426\n",
            "[160]\ttrain-mlogloss:0.972861\ttest-mlogloss:0.992389\n",
            "[180]\ttrain-mlogloss:0.967994\ttest-mlogloss:0.989457\n",
            "[200]\ttrain-mlogloss:0.964248\ttest-mlogloss:0.98787\n",
            "[220]\ttrain-mlogloss:0.960147\ttest-mlogloss:0.985905\n",
            "[240]\ttrain-mlogloss:0.956735\ttest-mlogloss:0.984523\n",
            "[260]\ttrain-mlogloss:0.953307\ttest-mlogloss:0.983383\n",
            "[280]\ttrain-mlogloss:0.949966\ttest-mlogloss:0.982564\n",
            "[300]\ttrain-mlogloss:0.947185\ttest-mlogloss:0.981638\n",
            "[320]\ttrain-mlogloss:0.944645\ttest-mlogloss:0.980938\n",
            "[340]\ttrain-mlogloss:0.942026\ttest-mlogloss:0.980066\n",
            "[360]\ttrain-mlogloss:0.939418\ttest-mlogloss:0.979014\n",
            "[380]\ttrain-mlogloss:0.936966\ttest-mlogloss:0.978781\n",
            "[400]\ttrain-mlogloss:0.934677\ttest-mlogloss:0.978501\n",
            "[420]\ttrain-mlogloss:0.932098\ttest-mlogloss:0.977808\n",
            "[440]\ttrain-mlogloss:0.930075\ttest-mlogloss:0.976936\n",
            "[460]\ttrain-mlogloss:0.928071\ttest-mlogloss:0.976582\n",
            "[480]\ttrain-mlogloss:0.926238\ttest-mlogloss:0.976542\n",
            "[500]\ttrain-mlogloss:0.924224\ttest-mlogloss:0.97682\n",
            "[520]\ttrain-mlogloss:0.922252\ttest-mlogloss:0.97634\n",
            "[540]\ttrain-mlogloss:0.920445\ttest-mlogloss:0.976545\n",
            "[560]\ttrain-mlogloss:0.918965\ttest-mlogloss:0.976392\n",
            "Stopping. Best iteration:\n",
            "[520]\ttrain-mlogloss:0.922252\ttest-mlogloss:0.97634\n",
            "\n",
            "cv scores :  [0.9910591283015929, 0.9774490770735456, 0.9900846217515896, 0.9873765091848417, 0.97634087776858]\n"
          ]
        }
      ]
    },
    {
      "cell_type": "markdown",
      "metadata": {
        "id": "V7Fryy7TIsaf"
      },
      "source": [
        "## Meta features 만으로 0.987!"
      ]
    },
    {
      "cell_type": "code",
      "metadata": {
        "colab": {
          "base_uri": "https://localhost:8080/",
          "height": 910
        },
        "id": "UZk6S7kjbR6M",
        "outputId": "7640b404-d87c-4d80-8fb5-bcec3a43ab4e"
      },
      "source": [
        "fig, ax = plt.subplots(figsize = (12,12))\n",
        "xgb.plot_importance(model, max_num_features = 50, height = 0.8, ax = ax)\n",
        "plt.show()"
      ],
      "execution_count": null,
      "outputs": [
        {
          "output_type": "stream",
          "name": "stderr",
          "text": [
            "Exception ignored in: <function Booster.__del__ at 0x7f7d4b71fb90>\n",
            "Traceback (most recent call last):\n",
            "  File \"/usr/local/lib/python3.7/dist-packages/xgboost/core.py\", line 957, in __del__\n",
            "    if self.handle is not None:\n",
            "AttributeError: 'Booster' object has no attribute 'handle'\n",
            "Exception ignored in: <function Booster.__del__ at 0x7f7d4b71fb90>\n",
            "Traceback (most recent call last):\n",
            "  File \"/usr/local/lib/python3.7/dist-packages/xgboost/core.py\", line 957, in __del__\n",
            "    if self.handle is not None:\n",
            "AttributeError: 'Booster' object has no attribute 'handle'\n"
          ]
        },
        {
          "output_type": "display_data",
          "data": {
            "image/png": "[encoded data removed]",
            "text/plain": [
              "<Figure size 864x864 with 1 Axes>"
            ]
          },
          "metadata": {
            "needs_background": "light"
          }
        }
      ]
    },
    {
      "cell_type": "markdown",
      "metadata": {
        "id": "d8c3fHCsX6RC"
      },
      "source": [
        "# 전체 dataset으로 학습하고, train과 test는 transform만!"
      ]
    },
    {
      "cell_type": "code",
      "metadata": {
        "id": "0M2jzHgAbR9U"
      },
      "source": [
        "#Fit_transform the tfidf vectorizer\n",
        "\n",
        "tfidf_vec = TfidfVectorizer(stop_words = \"english\", ngram_range = (1,3))\n",
        "full_tfidf = tfidf_vec.fit_transform(train_df[\"text\"].values.tolist()+test_df[\"text\"].values.tolist())\n",
        "train_tfidf = tfidf_vec.transform(train_df[\"text\"].values.tolist())\n",
        "test_tfidf  = tfidf_vec.transform(train_df[\"text\"].values.tolist())"
      ],
      "execution_count": 18,
      "outputs": []
    },
    {
      "cell_type": "markdown",
      "metadata": {
        "id": "ctvbRBviKKcj"
      },
      "source": [
        "Now we have some options.(Because sparse data)\n",
        "\n",
        "_1. Choose top n features from tfidf, and convert it into dense format, concat with others._\n",
        "\n",
        "_2. Build model using these sparse features, and use predictions along with other dense features_"
      ]
    },
    {
      "cell_type": "code",
      "metadata": {
        "id": "4c8KQyGeJzgi"
      },
      "source": [
        "def runMNB(train_X, train_y, test_X, test_y, test_X2):\n",
        "    model = naive_bayes.MultinomialNB()\n",
        "    model.fit(train_X, train_y)\n",
        "    pred_test_y = model.predict_proba(test_X)\n",
        "    pred_test_y2 = model.predict_proba(test_X2)\n",
        "    return pred_test_y, pred_test_y2, model"
      ],
      "execution_count": 19,
      "outputs": []
    },
    {
      "cell_type": "code",
      "metadata": {
        "id": "nhRvOYeFWTiF"
      },
      "source": [
        ""
      ],
      "execution_count": 19,
      "outputs": []
    },
    {
      "cell_type": "markdown",
      "metadata": {
        "id": "bO_ZICt9JzjV"
      },
      "source": [
        "**NB on Word TFIDF Vec**"
      ]
    },
    {
      "cell_type": "code",
      "metadata": {
        "colab": {
          "base_uri": "https://localhost:8080/"
        },
        "id": "ctJA864pJzl1",
        "outputId": "1328f30b-9698-4cc0-efe4-e097e8af0e1d"
      },
      "source": [
        "cv_scores = []\n",
        "pred_full_test = 0\n",
        "pred_train = np.zeros([train_df.shape[0], 3])\n",
        "kf = model_selection.KFold(n_splits=5, shuffle=True, random_state=2017)\n",
        "for dev_index, val_index in kf.split(train_X):\n",
        "    dev_X, val_X = train_tfidf[dev_index], train_tfidf[val_index]\n",
        "    dev_y, val_y = train_y[dev_index], train_y[val_index]\n",
        "    pred_val_y, pred_test_y, model = runMNB(dev_X, dev_y, val_X, val_y, test_tfidf)\n",
        "    pred_full_test = pred_full_test + pred_test_y\n",
        "    pred_train[val_index,:] = pred_val_y\n",
        "    cv_scores.append(metrics.log_loss(val_y, pred_val_y))\n",
        "print(\"Mean cv score : \", np.mean(cv_scores))\n",
        "pred_full_test = pred_full_test / 5."
      ],
      "execution_count": 21,
      "outputs": [
        {
          "output_type": "stream",
          "name": "stdout",
          "text": [
            "Mean cv score :  0.8422161983612855\n"
          ]
        }
      ]
    },
    {
      "cell_type": "markdown",
      "metadata": {
        "id": "QBv_U4WaY5a9"
      },
      "source": [
        "# 시각화 코드 공부"
      ]
    },
    {
      "cell_type": "code",
      "metadata": {
        "id": "eW20IEMkYtm1"
      },
      "source": [
        "### Function to create confusion matrix ###\n",
        "import itertools\n",
        "from sklearn.metrics import confusion_matrix\n",
        "\n",
        "### From http://scikit-learn.org/stable/auto_examples/model_selection/plot_confusion_matrix.html#sphx-glr-auto-examples-model-selection-plot-confusion-matrix-py #\n",
        "def plot_confusion_matrix(cm, classes,\n",
        "                          normalize=False,\n",
        "                          title='Confusion matrix',\n",
        "                          cmap=plt.cm.Blues):\n",
        "    \"\"\"\n",
        "    This function prints and plots the confusion matrix.\n",
        "    Normalization can be applied by setting `normalize=True`.\n",
        "    \"\"\"\n",
        "    if normalize:\n",
        "        cm = cm.astype('float') / cm.sum(axis=1)[:, np.newaxis]  #아마 나누는 수를 matrix 전반에 적용시켜야 하니까 이랬나봐!\n",
        "        #print(\"Normalized confusion matrix\")\n",
        "    #else:\n",
        "    #    print('Confusion matrix, without normalization')\n",
        "\n",
        "    #print(cm)\n",
        "\n",
        "    plt.imshow(cm, interpolation='nearest', cmap=cmap)\n",
        "    plt.title(title)\n",
        "    plt.colorbar()\n",
        "    tick_marks = np.arange(len(classes))\n",
        "    plt.xticks(tick_marks, classes, rotation=45)\n",
        "    plt.yticks(tick_marks, classes)\n",
        "\n",
        "    fmt = '.2f' if normalize else 'd'\n",
        "    thresh = cm.max() / 2.\n",
        "    for i, j in itertools.product(range(cm.shape[0]), range(cm.shape[1])):\n",
        "        plt.text(j, i, format(cm[i, j], fmt),\n",
        "                 horizontalalignment=\"center\",\n",
        "                 color=\"white\" if cm[i, j] > thresh else \"black\")\n",
        "\n",
        "    plt.tight_layout()\n",
        "    plt.ylabel('True label')\n",
        "    plt.xlabel('Predicted label')"
      ],
      "execution_count": 22,
      "outputs": []
    },
    {
      "cell_type": "code",
      "metadata": {
        "colab": {
          "base_uri": "https://localhost:8080/",
          "height": 585
        },
        "id": "no0t22Z0Ytj9",
        "outputId": "43b080a5-239b-4041-ea14-245ac179a376"
      },
      "source": [
        "cnf_matrix = confusion_matrix(val_y, np.argmax(pred_val_y,axis=1))\n",
        "np.set_printoptions(precision=2)\n",
        "\n",
        "# Plot non-normalized confusion matrix\n",
        "plt.figure(figsize=(8,8))\n",
        "plot_confusion_matrix(cnf_matrix, classes=['EAP', 'HPL', 'MWS'],\n",
        "                      title='Confusion matrix, without normalization')\n",
        "plt.show()"
      ],
      "execution_count": 23,
      "outputs": [
        {
          "output_type": "display_data",
          "data": {
            "image/png": "[encoded data removed]",
            "text/plain": [
              "<Figure size 576x576 with 2 Axes>"
            ]
          },
          "metadata": {
            "needs_background": "light"
          }
        }
      ]
    },
    {
      "cell_type": "markdown",
      "metadata": {
        "id": "TNPS9eJ1YtXu"
      },
      "source": [
        "**SVD on word TFIDF**\n",
        "Generally works well!"
      ]
    },
    {
      "cell_type": "code",
      "metadata": {
        "id": "FmXEtyVPYtU2"
      },
      "source": [
        "n_comp = 20\n",
        "svd_obj = TruncatedSVD(n_components = n_comp, algorithm = \"arpack\")\n",
        "svd_obj.fit(full_tfidf)\n",
        "train_svd = pd.DataFrame(svd_obj.transform(train_tfidf))\n",
        "test_svd = pd.DataFrame(svd_obj.transform(test_tfidf))\n",
        "\n",
        "train_svd.columns = ['svd_word+'+str(i) for i in range(n_comp)]\n",
        "test_svd.columns = ['svd_word+'+str(i) for i in range(n_comp)]\n",
        "\n",
        "train_df = pd.concat([train_df, train_svd],axis = 1)\n",
        "test_df  = pd.concat([test_df, test_svd], axis = 1)\n",
        "\n",
        "del full_tfidf, train_tfidf, test_tfidf, train_svd, test_svd\n"
      ],
      "execution_count": 24,
      "outputs": []
    },
    {
      "cell_type": "code",
      "metadata": {
        "id": "BgE_8K5y7mEr"
      },
      "source": [
        "train_df[\"text\"] = train_df[\"text\"].replace(np.nan,\" \")\n",
        "test_df[\"text\"]  = test_df[\"text\"].replace(np.nan,\" \")"
      ],
      "execution_count": 42,
      "outputs": []
    },
    {
      "cell_type": "code",
      "metadata": {
        "id": "w62MQTCOYtSF"
      },
      "source": [
        "##FIt-trnasform the Word CVec\n",
        "\"\"\"\n",
        "코드 그대로 실행시키면 오류가 나는데, 아마 NaN때문인듯. iterable은 str, unicode 를 반환해야함.\n",
        "\"\"\"\n",
        "\n",
        "\n",
        "tfidf_vec = CountVectorizer(stop_words = 'english', ngram_range = (1,3))\n",
        "tfidf_vec.fit(train_df[\"text\"].astype(\"U\").values.tolist() + test_df[\"text\"].astype(\"U\").values)\n",
        "train_tfidf = tfidf_vec.transform(train_df[\"text\"].astype(\"U\").values.tolist())\n",
        "test_tfidf  = tfidf_vec.transform(test_df[\"text\"].astype(\"U\").values.tolist())\n"
      ],
      "execution_count": 27,
      "outputs": []
    },
    {
      "cell_type": "code",
      "metadata": {
        "colab": {
          "base_uri": "https://localhost:8080/"
        },
        "id": "9dpNwYcNz9ps",
        "outputId": "65a09837-c987-4f45-e63c-e3fef7be0ccd"
      },
      "source": [
        "cv_scores = []\n",
        "pred_full_test = 0\n",
        "pred_train = np.zeros([train_df.shape[0], 3])\n",
        "kf = model_selection.KFold(n_splits=5, shuffle=True, random_state=2017)\n",
        "for dev_index, val_index in kf.split(train_X):\n",
        "    dev_X, val_X = train_tfidf[dev_index], train_tfidf[val_index]\n",
        "    dev_y, val_y = train_y[dev_index], train_y[val_index]\n",
        "    pred_val_y, pred_test_y, model = runMNB(dev_X, dev_y, val_X, val_y, test_tfidf)\n",
        "    pred_full_test = pred_full_test + pred_test_y\n",
        "    pred_train[val_index,:] = pred_val_y\n",
        "    cv_scores.append(metrics.log_loss(val_y, pred_val_y))\n",
        "print(\"Mean cv score : \", np.mean(cv_scores))\n",
        "pred_full_test = pred_full_test / 5.\n",
        "\n",
        "# add the predictions as new features #\n",
        "train_df[\"nb_cvec_eap\"] = pred_train[:,0]\n",
        "train_df[\"nb_cvec_hpl\"] = pred_train[:,1]\n",
        "train_df[\"nb_cvec_mws\"] = pred_train[:,2]\n",
        "test_df[\"nb_cvec_eap\"] = pred_full_test[:,0]\n",
        "test_df[\"nb_cvec_hpl\"] = pred_full_test[:,1]\n",
        "test_df[\"nb_cvec_mws\"] = pred_full_test[:,2]"
      ],
      "execution_count": 29,
      "outputs": [
        {
          "output_type": "stream",
          "name": "stdout",
          "text": [
            "Mean cv score :  0.45077574192280545\n"
          ]
        }
      ]
    },
    {
      "cell_type": "code",
      "metadata": {
        "colab": {
          "base_uri": "https://localhost:8080/"
        },
        "id": "OU29MUZIafCv",
        "outputId": "3a0ab319-e63f-47f6-8fe1-51547abad291"
      },
      "source": [
        "test_df[\"text\"]"
      ],
      "execution_count": null,
      "outputs": [
        {
          "output_type": "execute_result",
          "data": {
            "text/plain": [
              "0        Still, as I urged our leaving Ireland with suc...\n",
              "1        If a fire wanted fanning, it could readily be ...\n",
              "2        And when they had broken down the frail door t...\n",
              "3        While I was thinking how I should possibly man...\n",
              "4        I am not sure to what limit his knowledge may ...\n",
              "                               ...                        \n",
              "19574                                                  NaN\n",
              "19575                                                  NaN\n",
              "19576                                                  NaN\n",
              "19577                                                  NaN\n",
              "19578                                                  NaN\n",
              "Name: text, Length: 19579, dtype: object"
            ]
          },
          "metadata": {},
          "execution_count": 147
        }
      ]
    },
    {
      "cell_type": "markdown",
      "metadata": {
        "id": "LAombCxdYtPZ"
      },
      "source": [
        "# Counting special characters\n",
        "\n",
        "* Use Count vectorizer at a character level to get some features.\n",
        "\n"
      ]
    },
    {
      "cell_type": "code",
      "metadata": {
        "id": "ccxL4ZGXal2O"
      },
      "source": [
        ""
      ],
      "execution_count": null,
      "outputs": []
    },
    {
      "cell_type": "code",
      "metadata": {
        "colab": {
          "base_uri": "https://localhost:8080/"
        },
        "id": "EbvhAwMJJzod",
        "outputId": "3cfdb321-669d-4496-f3d5-210520150b23"
      },
      "source": [
        "##Fit-transform the tfidf vec\n",
        "\n",
        "tfidf_vec = CountVectorizer(ngram_range = (1,7), analyzer = \"char\")\n",
        "tfidf_vec.fit(train_df[\"text\"].astype(\"U\").values.tolist() + test_df[\"text\"].astype(\"U\").values.tolist())\n",
        "train_tfidf = tfidf_vec.transform(train_df[\"text\"].astype(\"U\").values.tolist())\n",
        "test_tfidf  = tfidf_vec.transform(test_df[\"text\"].astype(\"U\").values.tolist())\n",
        "\n",
        "\n",
        "cv_scores = []\n",
        "\n",
        "pred_full_test = 0\n",
        "pred_train = np.zeros([train_df.shape[0], 3])\n",
        "kf = model_selection.KFold(n_splits=5, shuffle=True, random_state=2017)\n",
        "for dev_index, val_index in kf.split(train_X):\n",
        "    dev_X, val_X = train_tfidf[dev_index], train_tfidf[val_index]\n",
        "    dev_y, val_y = train_y[dev_index], train_y[val_index]\n",
        "    pred_val_y, pred_test_y, model = runMNB(dev_X, dev_y, val_X, val_y, test_tfidf)\n",
        "    pred_full_test = pred_full_test + pred_test_y\n",
        "    pred_train[val_index,:] = pred_val_y\n",
        "    cv_scores.append(metrics.log_loss(val_y, pred_val_y))\n",
        "print(\"Mean cv score : \", np.mean(cv_scores))\n",
        "pred_full_test = pred_full_test / 5.\n",
        "\n",
        "# add the predictions as new features #\n",
        "train_df[\"nb_cvec_char_eap\"] = pred_train[:,0]\n",
        "train_df[\"nb_cvec_char_hpl\"] = pred_train[:,1]\n",
        "train_df[\"nb_cvec_char_mws\"] = pred_train[:,2]\n",
        "test_df[\"nb_cvec_char_eap\"] = pred_full_test[:,0]\n",
        "test_df[\"nb_cvec_char_hpl\"] = pred_full_test[:,1]\n",
        "test_df[\"nb_cvec_char_mws\"] = pred_full_test[:,2]\n",
        "\n",
        "\n",
        "\n"
      ],
      "execution_count": 32,
      "outputs": [
        {
          "output_type": "stream",
          "name": "stdout",
          "text": [
            "Mean cv score :  3.768405608254846\n"
          ]
        }
      ]
    },
    {
      "cell_type": "code",
      "metadata": {
        "id": "ShAdVTsyJzrV",
        "colab": {
          "base_uri": "https://localhost:8080/"
        },
        "outputId": "390819ab-b1c2-4134-9b11-cd728771b2dd"
      },
      "source": [
        "### Fit transform the tfidf vectorizer ###\n",
        "tfidf_vec = TfidfVectorizer(ngram_range=(1,5), analyzer='char')\n",
        "full_tfidf = tfidf_vec.fit_transform(train_df['text'].values.tolist() + test_df['text'].values.tolist())\n",
        "train_tfidf = tfidf_vec.transform(train_df['text'].values.tolist())\n",
        "test_tfidf = tfidf_vec.transform(test_df['text'].values.tolist())\n",
        "\n",
        "cv_scores = []\n",
        "pred_full_test = 0\n",
        "pred_train = np.zeros([train_df.shape[0], 3])\n",
        "kf = model_selection.KFold(n_splits=5, shuffle=True, random_state=2017)\n",
        "for dev_index, val_index in kf.split(train_X):\n",
        "    dev_X, val_X = train_tfidf[dev_index], train_tfidf[val_index]\n",
        "    dev_y, val_y = train_y[dev_index], train_y[val_index]\n",
        "    pred_val_y, pred_test_y, model = runMNB(dev_X, dev_y, val_X, val_y, test_tfidf)\n",
        "    pred_full_test = pred_full_test + pred_test_y\n",
        "    pred_train[val_index,:] = pred_val_y\n",
        "    cv_scores.append(metrics.log_loss(val_y, pred_val_y))\n",
        "print(\"Mean cv score : \", np.mean(cv_scores))\n",
        "pred_full_test = pred_full_test / 5.\n",
        "\n",
        "# add the predictions as new features #\n",
        "train_df[\"nb_tfidf_char_eap\"] = pred_train[:,0]\n",
        "train_df[\"nb_tfidf_char_hpl\"] = pred_train[:,1]\n",
        "train_df[\"nb_tfidf_char_mws\"] = pred_train[:,2]\n",
        "test_df[\"nb_tfidf_char_eap\"] = pred_full_test[:,0]\n",
        "test_df[\"nb_tfidf_char_hpl\"] = pred_full_test[:,1]\n",
        "test_df[\"nb_tfidf_char_mws\"] = pred_full_test[:,2]"
      ],
      "execution_count": 45,
      "outputs": [
        {
          "output_type": "stream",
          "name": "stdout",
          "text": [
            "Mean cv score :  0.8201562702755\n"
          ]
        }
      ]
    },
    {
      "cell_type": "markdown",
      "metadata": {
        "id": "K6J8IhKc68KV"
      },
      "source": [
        "# SVD on Character TFIDF"
      ]
    },
    {
      "cell_type": "code",
      "metadata": {
        "colab": {
          "base_uri": "https://localhost:8080/"
        },
        "id": "Q6Gzhs0V7CzB",
        "outputId": "832e86de-6e9b-4352-a0c3-1c498a110ecd"
      },
      "source": [
        "full_tfidf"
      ],
      "execution_count": 37,
      "outputs": [
        {
          "output_type": "execute_result",
          "data": {
            "text/plain": [
              "TfidfVectorizer(analyzer='char', binary=False, decode_error='strict',\n",
              "                dtype=<class 'numpy.float64'>, encoding='utf-8',\n",
              "                input='content', lowercase=True, max_df=1.0, max_features=None,\n",
              "                min_df=1, ngram_range=(1, 5), norm='l2', preprocessor=None,\n",
              "                smooth_idf=True, stop_words=None, strip_accents=None,\n",
              "                sublinear_tf=False, token_pattern='(?u)\\\\b\\\\w\\\\w+\\\\b',\n",
              "                tokenizer=None, use_idf=True, vocabulary=None)"
            ]
          },
          "metadata": {},
          "execution_count": 37
        }
      ]
    },
    {
      "cell_type": "code",
      "metadata": {
        "id": "8o9Or8hxJzuN"
      },
      "source": [
        "n_comp = 20\n",
        "svd_obj = TruncatedSVD(n_components=n_comp, algorithm='arpack')\n",
        "svd_obj.fit(full_tfidf)\n",
        "train_svd = pd.DataFrame(svd_obj.transform(train_tfidf))\n",
        "test_svd = pd.DataFrame(svd_obj.transform(test_tfidf))\n",
        "    \n",
        "train_svd.columns = ['svd_char_'+str(i) for i in range(n_comp)]\n",
        "test_svd.columns = ['svd_char_'+str(i) for i in range(n_comp)]\n",
        "train_df = pd.concat([train_df, train_svd], axis=1)\n",
        "test_df = pd.concat([test_df, test_svd], axis=1)\n",
        "del full_tfidf, train_tfidf, test_tfidf, train_svd, test_svd"
      ],
      "execution_count": 44,
      "outputs": []
    },
    {
      "cell_type": "code",
      "metadata": {
        "id": "AJP5_PJ3Jzw9",
        "colab": {
          "base_uri": "https://localhost:8080/",
          "height": 916
        },
        "outputId": "63becb73-4725-47b4-cf29-c9d8d40beff8"
      },
      "source": [
        "cols_to_drop = ['id', 'text']\n",
        "train_X = train_df.drop(cols_to_drop+['author'], axis=1)\n",
        "test_X = test_df.drop(cols_to_drop, axis=1)\n",
        "\n",
        "kf = model_selection.KFold(n_splits=5, shuffle=True, random_state=2017)\n",
        "cv_scores = []\n",
        "pred_full_test = 0\n",
        "pred_train = np.zeros([train_df.shape[0], 3])\n",
        "for dev_index, val_index in kf.split(train_X):\n",
        "    dev_X, val_X = train_X.loc[dev_index], train_X.loc[val_index]\n",
        "    dev_y, val_y = train_y[dev_index], train_y[val_index]\n",
        "    pred_val_y, pred_test_y, model = runXGB(dev_X, dev_y, val_X, val_y, test_X, seed_val=0, colsample=0.7)\n",
        "    pred_full_test = pred_full_test + pred_test_y\n",
        "    pred_train[val_index,:] = pred_val_y\n",
        "    cv_scores.append(metrics.log_loss(val_y, pred_val_y))\n",
        "    break\n",
        "print(\"cv scores : \", cv_scores)"
      ],
      "execution_count": 48,
      "outputs": [
        {
          "output_type": "stream",
          "name": "stdout",
          "text": [
            "[0]\ttrain-mlogloss:1.00271\ttest-mlogloss:1.00283\n",
            "Multiple eval metrics have been passed: 'test-mlogloss' will be used for early stopping.\n",
            "\n",
            "Will train until test-mlogloss hasn't improved in 50 rounds.\n",
            "[20]\ttrain-mlogloss:0.411729\ttest-mlogloss:0.417288\n",
            "[40]\ttrain-mlogloss:0.341521\ttest-mlogloss:0.355829\n",
            "[60]\ttrain-mlogloss:0.319627\ttest-mlogloss:0.340716\n",
            "[80]\ttrain-mlogloss:0.30388\ttest-mlogloss:0.331942\n",
            "[100]\ttrain-mlogloss:0.292765\ttest-mlogloss:0.326773\n",
            "[120]\ttrain-mlogloss:0.283543\ttest-mlogloss:0.322403\n",
            "[140]\ttrain-mlogloss:0.275627\ttest-mlogloss:0.319776\n",
            "[160]\ttrain-mlogloss:0.26702\ttest-mlogloss:0.31683\n",
            "[180]\ttrain-mlogloss:0.259872\ttest-mlogloss:0.314695\n",
            "[200]\ttrain-mlogloss:0.253401\ttest-mlogloss:0.312948\n",
            "[220]\ttrain-mlogloss:0.247237\ttest-mlogloss:0.311975\n",
            "[240]\ttrain-mlogloss:0.241406\ttest-mlogloss:0.31128\n",
            "[260]\ttrain-mlogloss:0.235436\ttest-mlogloss:0.310494\n",
            "[280]\ttrain-mlogloss:0.230287\ttest-mlogloss:0.30945\n",
            "[300]\ttrain-mlogloss:0.225125\ttest-mlogloss:0.30883\n",
            "[320]\ttrain-mlogloss:0.220614\ttest-mlogloss:0.309341\n",
            "[340]\ttrain-mlogloss:0.215957\ttest-mlogloss:0.308925\n",
            "[360]\ttrain-mlogloss:0.211\ttest-mlogloss:0.308448\n",
            "[380]\ttrain-mlogloss:0.207128\ttest-mlogloss:0.308148\n",
            "[400]\ttrain-mlogloss:0.202621\ttest-mlogloss:0.307773\n",
            "[420]\ttrain-mlogloss:0.198381\ttest-mlogloss:0.307848\n",
            "[440]\ttrain-mlogloss:0.193833\ttest-mlogloss:0.308283\n",
            "Stopping. Best iteration:\n",
            "[390]\ttrain-mlogloss:0.204509\ttest-mlogloss:0.307637\n",
            "\n",
            "cv scores :  [0.3076367842714105]\n"
          ]
        },
        {
          "output_type": "error",
          "ename": "ValueError",
          "evalue": "ignored",
          "traceback": [
            "\u001b[0;31m---------------------------------------------------------------------------\u001b[0m",
            "\u001b[0;31mValueError\u001b[0m                                Traceback (most recent call last)",
            "\u001b[0;32m<ipython-input-48-fc1a0f1d1b19>\u001b[0m in \u001b[0;36m<module>\u001b[0;34m()\u001b[0m\n\u001b[1;32m     19\u001b[0m \u001b[0mout_df\u001b[0m \u001b[0;34m=\u001b[0m \u001b[0mpd\u001b[0m\u001b[0;34m.\u001b[0m\u001b[0mDataFrame\u001b[0m\u001b[0;34m(\u001b[0m\u001b[0mpred_full_test\u001b[0m\u001b[0;34m)\u001b[0m\u001b[0;34m\u001b[0m\u001b[0;34m\u001b[0m\u001b[0m\n\u001b[1;32m     20\u001b[0m \u001b[0mout_df\u001b[0m\u001b[0;34m.\u001b[0m\u001b[0mcolumns\u001b[0m \u001b[0;34m=\u001b[0m \u001b[0;34m[\u001b[0m\u001b[0;34m'EAP'\u001b[0m\u001b[0;34m,\u001b[0m \u001b[0;34m'HPL'\u001b[0m\u001b[0;34m,\u001b[0m \u001b[0;34m'MWS'\u001b[0m\u001b[0;34m]\u001b[0m\u001b[0;34m\u001b[0m\u001b[0;34m\u001b[0m\u001b[0m\n\u001b[0;32m---> 21\u001b[0;31m \u001b[0mout_df\u001b[0m\u001b[0;34m.\u001b[0m\u001b[0minsert\u001b[0m\u001b[0;34m(\u001b[0m\u001b[0;36m0\u001b[0m\u001b[0;34m,\u001b[0m \u001b[0;34m'id'\u001b[0m\u001b[0;34m,\u001b[0m \u001b[0mtest_id\u001b[0m\u001b[0;34m)\u001b[0m\u001b[0;34m\u001b[0m\u001b[0;34m\u001b[0m\u001b[0m\n\u001b[0m\u001b[1;32m     22\u001b[0m \u001b[0mout_df\u001b[0m\u001b[0;34m.\u001b[0m\u001b[0mto_csv\u001b[0m\u001b[0;34m(\u001b[0m\u001b[0;34m\"sub_fe.csv\"\u001b[0m\u001b[0;34m,\u001b[0m \u001b[0mindex\u001b[0m\u001b[0;34m=\u001b[0m\u001b[0;32mFalse\u001b[0m\u001b[0;34m)\u001b[0m\u001b[0;34m\u001b[0m\u001b[0;34m\u001b[0m\u001b[0m\n",
            "\u001b[0;32m/usr/local/lib/python3.7/dist-packages/pandas/core/frame.py\u001b[0m in \u001b[0;36minsert\u001b[0;34m(self, loc, column, value, allow_duplicates)\u001b[0m\n\u001b[1;32m   3625\u001b[0m         \"\"\"\n\u001b[1;32m   3626\u001b[0m         \u001b[0mself\u001b[0m\u001b[0;34m.\u001b[0m\u001b[0m_ensure_valid_index\u001b[0m\u001b[0;34m(\u001b[0m\u001b[0mvalue\u001b[0m\u001b[0;34m)\u001b[0m\u001b[0;34m\u001b[0m\u001b[0;34m\u001b[0m\u001b[0m\n\u001b[0;32m-> 3627\u001b[0;31m         \u001b[0mvalue\u001b[0m \u001b[0;34m=\u001b[0m \u001b[0mself\u001b[0m\u001b[0;34m.\u001b[0m\u001b[0m_sanitize_column\u001b[0m\u001b[0;34m(\u001b[0m\u001b[0mcolumn\u001b[0m\u001b[0;34m,\u001b[0m \u001b[0mvalue\u001b[0m\u001b[0;34m,\u001b[0m \u001b[0mbroadcast\u001b[0m\u001b[0;34m=\u001b[0m\u001b[0;32mFalse\u001b[0m\u001b[0;34m)\u001b[0m\u001b[0;34m\u001b[0m\u001b[0;34m\u001b[0m\u001b[0m\n\u001b[0m\u001b[1;32m   3628\u001b[0m         \u001b[0mself\u001b[0m\u001b[0;34m.\u001b[0m\u001b[0m_mgr\u001b[0m\u001b[0;34m.\u001b[0m\u001b[0minsert\u001b[0m\u001b[0;34m(\u001b[0m\u001b[0mloc\u001b[0m\u001b[0;34m,\u001b[0m \u001b[0mcolumn\u001b[0m\u001b[0;34m,\u001b[0m \u001b[0mvalue\u001b[0m\u001b[0;34m,\u001b[0m \u001b[0mallow_duplicates\u001b[0m\u001b[0;34m=\u001b[0m\u001b[0mallow_duplicates\u001b[0m\u001b[0;34m)\u001b[0m\u001b[0;34m\u001b[0m\u001b[0;34m\u001b[0m\u001b[0m\n\u001b[1;32m   3629\u001b[0m \u001b[0;34m\u001b[0m\u001b[0m\n",
            "\u001b[0;32m/usr/local/lib/python3.7/dist-packages/pandas/core/frame.py\u001b[0m in \u001b[0;36m_sanitize_column\u001b[0;34m(self, key, value, broadcast)\u001b[0m\n\u001b[1;32m   3766\u001b[0m \u001b[0;34m\u001b[0m\u001b[0m\n\u001b[1;32m   3767\u001b[0m             \u001b[0;31m# turn me into an ndarray\u001b[0m\u001b[0;34m\u001b[0m\u001b[0;34m\u001b[0m\u001b[0;34m\u001b[0m\u001b[0m\n\u001b[0;32m-> 3768\u001b[0;31m             \u001b[0mvalue\u001b[0m \u001b[0;34m=\u001b[0m \u001b[0msanitize_index\u001b[0m\u001b[0;34m(\u001b[0m\u001b[0mvalue\u001b[0m\u001b[0;34m,\u001b[0m \u001b[0mself\u001b[0m\u001b[0;34m.\u001b[0m\u001b[0mindex\u001b[0m\u001b[0;34m)\u001b[0m\u001b[0;34m\u001b[0m\u001b[0;34m\u001b[0m\u001b[0m\n\u001b[0m\u001b[1;32m   3769\u001b[0m             \u001b[0;32mif\u001b[0m \u001b[0;32mnot\u001b[0m \u001b[0misinstance\u001b[0m\u001b[0;34m(\u001b[0m\u001b[0mvalue\u001b[0m\u001b[0;34m,\u001b[0m \u001b[0;34m(\u001b[0m\u001b[0mnp\u001b[0m\u001b[0;34m.\u001b[0m\u001b[0mndarray\u001b[0m\u001b[0;34m,\u001b[0m \u001b[0mIndex\u001b[0m\u001b[0;34m)\u001b[0m\u001b[0;34m)\u001b[0m\u001b[0;34m:\u001b[0m\u001b[0;34m\u001b[0m\u001b[0;34m\u001b[0m\u001b[0m\n\u001b[1;32m   3770\u001b[0m                 \u001b[0;32mif\u001b[0m \u001b[0misinstance\u001b[0m\u001b[0;34m(\u001b[0m\u001b[0mvalue\u001b[0m\u001b[0;34m,\u001b[0m \u001b[0mlist\u001b[0m\u001b[0;34m)\u001b[0m \u001b[0;32mand\u001b[0m \u001b[0mlen\u001b[0m\u001b[0;34m(\u001b[0m\u001b[0mvalue\u001b[0m\u001b[0;34m)\u001b[0m \u001b[0;34m>\u001b[0m \u001b[0;36m0\u001b[0m\u001b[0;34m:\u001b[0m\u001b[0;34m\u001b[0m\u001b[0;34m\u001b[0m\u001b[0m\n",
            "\u001b[0;32m/usr/local/lib/python3.7/dist-packages/pandas/core/internals/construction.py\u001b[0m in \u001b[0;36msanitize_index\u001b[0;34m(data, index)\u001b[0m\n\u001b[1;32m    746\u001b[0m     \u001b[0;32mif\u001b[0m \u001b[0mlen\u001b[0m\u001b[0;34m(\u001b[0m\u001b[0mdata\u001b[0m\u001b[0;34m)\u001b[0m \u001b[0;34m!=\u001b[0m \u001b[0mlen\u001b[0m\u001b[0;34m(\u001b[0m\u001b[0mindex\u001b[0m\u001b[0;34m)\u001b[0m\u001b[0;34m:\u001b[0m\u001b[0;34m\u001b[0m\u001b[0;34m\u001b[0m\u001b[0m\n\u001b[1;32m    747\u001b[0m         raise ValueError(\n\u001b[0;32m--> 748\u001b[0;31m             \u001b[0;34m\"Length of values \"\u001b[0m\u001b[0;34m\u001b[0m\u001b[0;34m\u001b[0m\u001b[0m\n\u001b[0m\u001b[1;32m    749\u001b[0m             \u001b[0;34mf\"({len(data)}) \"\u001b[0m\u001b[0;34m\u001b[0m\u001b[0;34m\u001b[0m\u001b[0m\n\u001b[1;32m    750\u001b[0m             \u001b[0;34m\"does not match length of index \"\u001b[0m\u001b[0;34m\u001b[0m\u001b[0;34m\u001b[0m\u001b[0m\n",
            "\u001b[0;31mValueError\u001b[0m: Length of values (8392) does not match length of index (19579)"
          ]
        }
      ]
    },
    {
      "cell_type": "code",
      "metadata": {
        "id": "BMAh4rSuJz0G"
      },
      "source": [
        ""
      ],
      "execution_count": null,
      "outputs": []
    },
    {
      "cell_type": "code",
      "metadata": {
        "id": "wJX9PaN7Jz3F"
      },
      "source": [
        ""
      ],
      "execution_count": null,
      "outputs": []
    },
    {
      "cell_type": "code",
      "metadata": {
        "id": "5kj6s3T-Jz6F"
      },
      "source": [
        ""
      ],
      "execution_count": null,
      "outputs": []
    },
    {
      "cell_type": "code",
      "metadata": {
        "id": "SnhfwcXnJz9F"
      },
      "source": [
        ""
      ],
      "execution_count": null,
      "outputs": []
    },
    {
      "cell_type": "code",
      "metadata": {
        "id": "hDh6PbazJz_4"
      },
      "source": [
        ""
      ],
      "execution_count": null,
      "outputs": []
    },
    {
      "cell_type": "code",
      "metadata": {
        "id": "IWHeWjAsJ0Cv"
      },
      "source": [
        ""
      ],
      "execution_count": null,
      "outputs": []
    },
    {
      "cell_type": "code",
      "metadata": {
        "id": "bMPCLM9BJ0Fg"
      },
      "source": [
        ""
      ],
      "execution_count": null,
      "outputs": []
    },
    {
      "cell_type": "code",
      "metadata": {
        "id": "8Asl1e0yJ0IJ"
      },
      "source": [
        ""
      ],
      "execution_count": null,
      "outputs": []
    },
    {
      "cell_type": "code",
      "metadata": {
        "id": "GwjOd6ULbSAC"
      },
      "source": [
        ""
      ],
      "execution_count": null,
      "outputs": []
    },
    {
      "cell_type": "code",
      "metadata": {
        "id": "gzIaQMKmbSDE"
      },
      "source": [
        ""
      ],
      "execution_count": null,
      "outputs": []
    },
    {
      "cell_type": "code",
      "metadata": {
        "id": "AEkcH5SQbSGE"
      },
      "source": [
        ""
      ],
      "execution_count": null,
      "outputs": []
    },
    {
      "cell_type": "code",
      "metadata": {
        "id": "s8jQr9m1bSIq"
      },
      "source": [
        ""
      ],
      "execution_count": null,
      "outputs": []
    },
    {
      "cell_type": "markdown",
      "metadata": {
        "id": "EP63p8MobSLy"
      },
      "source": [
        ""
      ]
    }
  ]
}